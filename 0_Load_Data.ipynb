{
 "cells": [
  {
   "cell_type": "markdown",
   "metadata": {},
   "source": [
    "# Исходные данные "
   ]
  },
  {
   "cell_type": "code",
   "execution_count": 1,
   "metadata": {},
   "outputs": [],
   "source": [
    "import os\n",
    "\n",
    "import re\n",
    "import json\n",
    "\n",
    "import numpy as np\n",
    "import pandas as pd \n",
    "\n",
    "import pydicom\n",
    "\n",
    "import matplotlib.pyplot as plt"
   ]
  },
  {
   "cell_type": "code",
   "execution_count": 2,
   "metadata": {},
   "outputs": [],
   "source": [
    "basedir = \"E:\\data\\For_Publication_v3\""
   ]
  },
  {
   "cell_type": "markdown",
   "metadata": {},
   "source": [
    "### Протоколы КТ-исследований. Загрузим информацию об обнаруженных узлах"
   ]
  },
  {
   "cell_type": "code",
   "execution_count": 3,
   "metadata": {},
   "outputs": [],
   "source": [
    "protocols_dir = f\"{basedir}\\\\Protocols\""
   ]
  },
  {
   "cell_type": "code",
   "execution_count": 4,
   "metadata": {},
   "outputs": [
    {
     "data": {
      "text/plain": [
       "541"
      ]
     },
     "execution_count": 4,
     "metadata": {},
     "output_type": "execute_result"
    }
   ],
   "source": [
    "protocol_files = [f'{protocols_dir}\\\\{file}' for file in os.listdir(protocols_dir)]\n",
    "len(protocol_files)"
   ]
  },
  {
   "cell_type": "code",
   "execution_count": 5,
   "metadata": {},
   "outputs": [],
   "source": [
    "def read_json(filename, encoding='utf-8-sig'):\n",
    "    with open(filename, \"r\", encoding=encoding) as file:\n",
    "        text = file.read()\n",
    "        return json.loads(text)"
   ]
  },
  {
   "cell_type": "code",
   "execution_count": 6,
   "metadata": {},
   "outputs": [],
   "source": [
    "protocols_common_rows = []\n",
    "protocols_positions_rows = []\n",
    "for pfile in protocol_files:\n",
    "    protocol_json = read_json(pfile)\n",
    "    \n",
    "    for comment_json in protocol_json['doctors']:\n",
    "        protocols_common_rows.append((\n",
    "           protocol_json['ids']['study id'],\n",
    "           comment_json['id'],\n",
    "           comment_json['comment'],\n",
    "           protocol_json['ids']['accession number']\n",
    "        ))\n",
    "        \n",
    "    for nodules_json_arr in (protocol_json['nodules'] or []):\n",
    "        nodules_json = nodules_json_arr[0]\n",
    "\n",
    "        for nodule_id in nodules_json:\n",
    "            if nodules_json[nodule_id] is not None:\n",
    "                protocols_positions_rows.append((\n",
    "                    protocol_json['ids']['study id'],\n",
    "                    nodule_id,\n",
    "                    nodules_json[nodule_id]['diameter (mm)'],                    \n",
    "                    nodules_json[nodule_id]['x'],\n",
    "                    nodules_json[nodule_id]['y'],                    \n",
    "                    nodules_json[nodule_id]['z'],                    \n",
    "                    nodules_json[nodule_id]['z type'],                    \n",
    "                    nodules_json[nodule_id]['expert decision'][0]['comment'],\n",
    "                    nodules_json[nodule_id]['expert decision'][0]['decision'],\n",
    "                    nodules_json[nodule_id]['expert decision'][0]['id'],\n",
    "                    nodules_json[nodule_id]['expert decision'][0]['machine learning'],\n",
    "                    nodules_json[nodule_id]['expert decision'][0]['type'],      \n",
    "                    protocol_json['ids']['accession number']\n",
    "                ))"
   ]
  },
  {
   "cell_type": "code",
   "execution_count": 7,
   "metadata": {},
   "outputs": [
    {
     "data": {
      "text/html": [
       "<div>\n",
       "<style scoped>\n",
       "    .dataframe tbody tr th:only-of-type {\n",
       "        vertical-align: middle;\n",
       "    }\n",
       "\n",
       "    .dataframe tbody tr th {\n",
       "        vertical-align: top;\n",
       "    }\n",
       "\n",
       "    .dataframe thead th {\n",
       "        text-align: right;\n",
       "    }\n",
       "</style>\n",
       "<table border=\"1\" class=\"dataframe\">\n",
       "  <thead>\n",
       "    <tr style=\"text-align: right;\">\n",
       "      <th></th>\n",
       "      <th>study_id</th>\n",
       "      <th>nodule_id</th>\n",
       "      <th>comment</th>\n",
       "      <th>accession_number</th>\n",
       "    </tr>\n",
       "  </thead>\n",
       "  <tbody>\n",
       "    <tr>\n",
       "      <th>0</th>\n",
       "      <td>RLS5A09001KDC6-K00008714</td>\n",
       "      <td>004</td>\n",
       "      <td>Нет</td>\n",
       "      <td>RLAD31D006-11315</td>\n",
       "    </tr>\n",
       "    <tr>\n",
       "      <th>1</th>\n",
       "      <td>RLS5A09001KDC6-K00008714</td>\n",
       "      <td>009</td>\n",
       "      <td>Нет</td>\n",
       "      <td>RLAD31D006-11315</td>\n",
       "    </tr>\n",
       "    <tr>\n",
       "      <th>2</th>\n",
       "      <td>RLS5A09001KDC6-K00008714</td>\n",
       "      <td>012</td>\n",
       "      <td></td>\n",
       "      <td>RLAD31D006-11315</td>\n",
       "    </tr>\n",
       "    <tr>\n",
       "      <th>3</th>\n",
       "      <td>RLS5A09001KDC6-K00008714</td>\n",
       "      <td>000</td>\n",
       "      <td>Нет очагов</td>\n",
       "      <td>RLAD31D006-11315</td>\n",
       "    </tr>\n",
       "    <tr>\n",
       "      <th>4</th>\n",
       "      <td>RLS5A09001KDC6-K00008714</td>\n",
       "      <td>002</td>\n",
       "      <td>Нет</td>\n",
       "      <td>RLAD31D006-11315</td>\n",
       "    </tr>\n",
       "  </tbody>\n",
       "</table>\n",
       "</div>"
      ],
      "text/plain": [
       "                   study_id nodule_id     comment  accession_number\n",
       "0  RLS5A09001KDC6-K00008714       004         Нет  RLAD31D006-11315\n",
       "1  RLS5A09001KDC6-K00008714       009         Нет  RLAD31D006-11315\n",
       "2  RLS5A09001KDC6-K00008714       012              RLAD31D006-11315\n",
       "3  RLS5A09001KDC6-K00008714       000  Нет очагов  RLAD31D006-11315\n",
       "4  RLS5A09001KDC6-K00008714       002         Нет  RLAD31D006-11315"
      ]
     },
     "execution_count": 7,
     "metadata": {},
     "output_type": "execute_result"
    }
   ],
   "source": [
    "col_names = ('study_id', 'nodule_id', 'comment', 'accession_number')\n",
    "protocols_common = pd.DataFrame(data=protocols_common_rows, columns=col_names)\n",
    "protocols_common.head()"
   ]
  },
  {
   "cell_type": "code",
   "execution_count": 8,
   "metadata": {},
   "outputs": [
    {
     "data": {
      "text/html": [
       "<div>\n",
       "<style scoped>\n",
       "    .dataframe tbody tr th:only-of-type {\n",
       "        vertical-align: middle;\n",
       "    }\n",
       "\n",
       "    .dataframe tbody tr th {\n",
       "        vertical-align: top;\n",
       "    }\n",
       "\n",
       "    .dataframe thead th {\n",
       "        text-align: right;\n",
       "    }\n",
       "</style>\n",
       "<table border=\"1\" class=\"dataframe\">\n",
       "  <thead>\n",
       "    <tr style=\"text-align: right;\">\n",
       "      <th></th>\n",
       "      <th>study_id</th>\n",
       "      <th>nodule_id</th>\n",
       "      <th>diameter</th>\n",
       "      <th>x</th>\n",
       "      <th>y</th>\n",
       "      <th>z</th>\n",
       "      <th>z_type</th>\n",
       "      <th>comment</th>\n",
       "      <th>decision</th>\n",
       "      <th>id</th>\n",
       "      <th>ml</th>\n",
       "      <th>type</th>\n",
       "      <th>accession_number</th>\n",
       "    </tr>\n",
       "  </thead>\n",
       "  <tbody>\n",
       "    <tr>\n",
       "      <th>0</th>\n",
       "      <td>RLS5A09001KDC6-K00008714</td>\n",
       "      <td>002</td>\n",
       "      <td>6.0</td>\n",
       "      <td>400.0</td>\n",
       "      <td>281.0</td>\n",
       "      <td>1698.3</td>\n",
       "      <td>mm</td>\n",
       "      <td>неверный размер</td>\n",
       "      <td>confirmed_partially</td>\n",
       "      <td>СВЕ</td>\n",
       "      <td>False</td>\n",
       "      <td>м</td>\n",
       "      <td>RLAD31D006-11315</td>\n",
       "    </tr>\n",
       "    <tr>\n",
       "      <th>1</th>\n",
       "      <td>RLS5A09001KDC6-K00008714</td>\n",
       "      <td>002</td>\n",
       "      <td>6.0</td>\n",
       "      <td>417.0</td>\n",
       "      <td>251.0</td>\n",
       "      <td>1632.7</td>\n",
       "      <td>mm</td>\n",
       "      <td>несовпадение типа (п), неверный размер</td>\n",
       "      <td>confirmed_partially</td>\n",
       "      <td>СВЕ</td>\n",
       "      <td>True</td>\n",
       "      <td>п</td>\n",
       "      <td>RLAD31D006-11315</td>\n",
       "    </tr>\n",
       "    <tr>\n",
       "      <th>2</th>\n",
       "      <td>RLS5A09001KDC6-K00008714</td>\n",
       "      <td>002</td>\n",
       "      <td>4.0</td>\n",
       "      <td>422.0</td>\n",
       "      <td>312.0</td>\n",
       "      <td>1594.3</td>\n",
       "      <td>mm</td>\n",
       "      <td>неверный размер</td>\n",
       "      <td>confirmed_partially</td>\n",
       "      <td>СВЕ</td>\n",
       "      <td>True</td>\n",
       "      <td>с</td>\n",
       "      <td>RLAD31D006-11315</td>\n",
       "    </tr>\n",
       "  </tbody>\n",
       "</table>\n",
       "</div>"
      ],
      "text/plain": [
       "                   study_id nodule_id  diameter      x      y       z z_type  \\\n",
       "0  RLS5A09001KDC6-K00008714       002       6.0  400.0  281.0  1698.3     mm   \n",
       "1  RLS5A09001KDC6-K00008714       002       6.0  417.0  251.0  1632.7     mm   \n",
       "2  RLS5A09001KDC6-K00008714       002       4.0  422.0  312.0  1594.3     mm   \n",
       "\n",
       "                                  comment             decision   id     ml  \\\n",
       "0                         неверный размер  confirmed_partially  СВЕ  False   \n",
       "1  несовпадение типа (п), неверный размер  confirmed_partially  СВЕ   True   \n",
       "2                         неверный размер  confirmed_partially  СВЕ   True   \n",
       "\n",
       "  type  accession_number  \n",
       "0    м  RLAD31D006-11315  \n",
       "1    п  RLAD31D006-11315  \n",
       "2    с  RLAD31D006-11315  "
      ]
     },
     "execution_count": 8,
     "metadata": {},
     "output_type": "execute_result"
    }
   ],
   "source": [
    "col_names = ('study_id', 'nodule_id', 'diameter', 'x', 'y', 'z', 'z_type', 'comment', 'decision', 'id', 'ml', 'type', 'accession_number')\n",
    "nodules_positions = pd.DataFrame(data=protocols_positions_rows, columns=col_names)\n",
    "nodules_positions.head(3)"
   ]
  },
  {
   "cell_type": "markdown",
   "metadata": {},
   "source": [
    "### Результаты КТ.  Разберем файлы и соберем инфомацию о конкретных снимках"
   ]
  },
  {
   "cell_type": "code",
   "execution_count": 9,
   "metadata": {},
   "outputs": [],
   "source": [
    "specific_tags_list = ['SeriesInstanceUID', 'SeriesDescription', 'ImagePositionPatient', 'PixelSpacing', 'SliceLocation']\n",
    "\n",
    "def read_plans_tags(accession_number, study_id):\n",
    "    dcm_base_dir =   f\"{basedir}\\\\Dicom\\\\{accession_number}_{study_id}\\\\CT\"\n",
    "    dcm_dir = f\"{dcm_base_dir}\\\\{os.listdir(dcm_base_dir)[0]}\"\n",
    "    dcm_files = [f\"{dcm_dir}\\\\{file_name}\" for file_name in os.listdir(dcm_dir)]\n",
    "    plans = [(file, pydicom.read_file(file, specific_tags=specific_tags_list, stop_before_pixels=True)) for file in dcm_files]\n",
    "    lung_plans = [(file, plan) for (file, plan) in plans]\n",
    "    return lung_plans"
   ]
  },
  {
   "cell_type": "code",
   "execution_count": 10,
   "metadata": {},
   "outputs": [],
   "source": [
    "studies = protocols_common[['study_id', 'accession_number']].drop_duplicates()"
   ]
  },
  {
   "cell_type": "code",
   "execution_count": 11,
   "metadata": {},
   "outputs": [
    {
     "data": {
      "text/plain": [
       "'RLAD31D006-11315'"
      ]
     },
     "execution_count": 11,
     "metadata": {},
     "output_type": "execute_result"
    }
   ],
   "source": [
    "studies.iloc[0]['accession_number']"
   ]
  },
  {
   "cell_type": "code",
   "execution_count": 12,
   "metadata": {},
   "outputs": [
    {
     "name": "stdout",
     "output_type": "stream",
     "text": [
      "Wall time: 57min 45s\n"
     ]
    }
   ],
   "source": [
    "%%time\n",
    "plan_instance_rows = []\n",
    "for index, row in [x for x in studies.iterrows()]:\n",
    "    plans = read_plans_tags(row['accession_number'], row['study_id'])\n",
    "    for (file, plan) in plans:\n",
    "        plan_tags_dict = dict([(tag.name, tag.value) for tag in plan])         \n",
    "        x, y, z = plan['ImagePositionPatient'].value\n",
    "        plan_instance_rows.append((row['study_id'], plan['SeriesDescription'].value, z, plan['SliceLocation'].value, plan['SeriesInstanceUID'].value, file))"
   ]
  },
  {
   "cell_type": "code",
   "execution_count": 13,
   "metadata": {},
   "outputs": [
    {
     "data": {
      "text/html": [
       "<div>\n",
       "<style scoped>\n",
       "    .dataframe tbody tr th:only-of-type {\n",
       "        vertical-align: middle;\n",
       "    }\n",
       "\n",
       "    .dataframe tbody tr th {\n",
       "        vertical-align: top;\n",
       "    }\n",
       "\n",
       "    .dataframe thead th {\n",
       "        text-align: right;\n",
       "    }\n",
       "</style>\n",
       "<table border=\"1\" class=\"dataframe\">\n",
       "  <thead>\n",
       "    <tr style=\"text-align: right;\">\n",
       "      <th></th>\n",
       "      <th>study_id</th>\n",
       "      <th>desc</th>\n",
       "      <th>z_mm</th>\n",
       "      <th>location</th>\n",
       "      <th>instance_uid</th>\n",
       "      <th>dcm_path</th>\n",
       "    </tr>\n",
       "  </thead>\n",
       "  <tbody>\n",
       "    <tr>\n",
       "      <th>2744</th>\n",
       "      <td>RLS5A09001KDC6-K00004273</td>\n",
       "      <td>Inspirat. Body 5.0    Inspirat.</td>\n",
       "      <td>1660.5</td>\n",
       "      <td>300.0</td>\n",
       "      <td>1.2.276.0.7230010.3.1.3.1417964692.10880.15687...</td>\n",
       "      <td>E:\\data\\For_Publication_v3\\Dicom\\RLAD31D006-12...</td>\n",
       "    </tr>\n",
       "    <tr>\n",
       "      <th>2813</th>\n",
       "      <td>RLS5A09001KDC6-K00004273</td>\n",
       "      <td>Inspirat. Lung 5.0    Inspirat.</td>\n",
       "      <td>1660.5</td>\n",
       "      <td>300.0</td>\n",
       "      <td>1.2.276.0.7230010.3.1.3.1417964692.10880.15687...</td>\n",
       "      <td>E:\\data\\For_Publication_v3\\Dicom\\RLAD31D006-12...</td>\n",
       "    </tr>\n",
       "    <tr>\n",
       "      <th>3183</th>\n",
       "      <td>RLS5A09001KDC6-K00004273</td>\n",
       "      <td>Inspirat. Body 1.0    Inspirat.</td>\n",
       "      <td>1660.5</td>\n",
       "      <td>300.0</td>\n",
       "      <td>1.2.276.0.7230010.3.1.3.1417964692.10880.15687...</td>\n",
       "      <td>E:\\data\\For_Publication_v3\\Dicom\\RLAD31D006-12...</td>\n",
       "    </tr>\n",
       "  </tbody>\n",
       "</table>\n",
       "</div>"
      ],
      "text/plain": [
       "                      study_id                             desc    z_mm  \\\n",
       "2744  RLS5A09001KDC6-K00004273  Inspirat. Body 5.0    Inspirat.  1660.5   \n",
       "2813  RLS5A09001KDC6-K00004273  Inspirat. Lung 5.0    Inspirat.  1660.5   \n",
       "3183  RLS5A09001KDC6-K00004273  Inspirat. Body 1.0    Inspirat.  1660.5   \n",
       "\n",
       "      location                                       instance_uid  \\\n",
       "2744     300.0  1.2.276.0.7230010.3.1.3.1417964692.10880.15687...   \n",
       "2813     300.0  1.2.276.0.7230010.3.1.3.1417964692.10880.15687...   \n",
       "3183     300.0  1.2.276.0.7230010.3.1.3.1417964692.10880.15687...   \n",
       "\n",
       "                                               dcm_path  \n",
       "2744  E:\\data\\For_Publication_v3\\Dicom\\RLAD31D006-12...  \n",
       "2813  E:\\data\\For_Publication_v3\\Dicom\\RLAD31D006-12...  \n",
       "3183  E:\\data\\For_Publication_v3\\Dicom\\RLAD31D006-12...  "
      ]
     },
     "execution_count": 13,
     "metadata": {},
     "output_type": "execute_result"
    }
   ],
   "source": [
    "plans_col_names = ('study_id', 'desc', 'z_mm', 'location', 'instance_uid', 'dcm_path')\n",
    "plan_instances = pd.DataFrame(data=plan_instance_rows, columns=plans_col_names).sort_values(['study_id', 'z_mm'])\n",
    "plan_instances.head(3)"
   ]
  },
  {
   "cell_type": "markdown",
   "metadata": {},
   "source": [
    "### Сохраним данные"
   ]
  },
  {
   "cell_type": "code",
   "execution_count": 14,
   "metadata": {},
   "outputs": [],
   "source": [
    "protocols_common.to_csv('data/protocols_common', index=False)\n",
    "nodules_positions.to_csv('data/nodules_positions', index=False)\n",
    "plan_instances.to_csv(\"data/plan_instances\", index=False)"
   ]
  }
 ],
 "metadata": {
  "kernelspec": {
   "display_name": "Python 3",
   "language": "python",
   "name": "python3"
  },
  "language_info": {
   "codemirror_mode": {
    "name": "ipython",
    "version": 3
   },
   "file_extension": ".py",
   "mimetype": "text/x-python",
   "name": "python",
   "nbconvert_exporter": "python",
   "pygments_lexer": "ipython3",
   "version": "3.7.1"
  }
 },
 "nbformat": 4,
 "nbformat_minor": 4
}
