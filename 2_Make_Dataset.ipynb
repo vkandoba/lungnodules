{
 "cells": [
  {
   "cell_type": "markdown",
   "metadata": {},
   "source": [
    "# Данные для обучения и оценки модели\n",
    "\n",
    "* Данные разбиваем по исследованиям\n",
    "* Используем набор снимков, ограниченный по z-коорединате, чтобы уменьшить время на обучение\n",
    "* Обучаем и тестируем только на снимках с узлами\n",
    "* Делаем выборки представительными по кол-ву узлов\n",
    "* Близкие узлы в разных плоскостях считаем разными, тоже самое для пересекающихся в одной плоскости"
   ]
  },
  {
   "cell_type": "code",
   "execution_count": 26,
   "metadata": {},
   "outputs": [],
   "source": [
    "import numpy as np\n",
    "import pandas as pd \n",
    "\n",
    "import dill\n",
    "import joblib\n",
    "\n",
    "from sklearn.model_selection import train_test_split"
   ]
  },
  {
   "cell_type": "code",
   "execution_count": 27,
   "metadata": {},
   "outputs": [],
   "source": [
    "plans = pd.read_csv('data/plans')\n",
    "nodules = pd.read_csv('data/nodules')"
   ]
  },
  {
   "cell_type": "code",
   "execution_count": 28,
   "metadata": {},
   "outputs": [
    {
     "data": {
      "text/html": [
       "<div>\n",
       "<style scoped>\n",
       "    .dataframe tbody tr th:only-of-type {\n",
       "        vertical-align: middle;\n",
       "    }\n",
       "\n",
       "    .dataframe tbody tr th {\n",
       "        vertical-align: top;\n",
       "    }\n",
       "\n",
       "    .dataframe thead th {\n",
       "        text-align: right;\n",
       "    }\n",
       "</style>\n",
       "<table border=\"1\" class=\"dataframe\">\n",
       "  <thead>\n",
       "    <tr style=\"text-align: right;\">\n",
       "      <th></th>\n",
       "      <th>study_id</th>\n",
       "      <th>nodule_id</th>\n",
       "      <th>diameter</th>\n",
       "      <th>x</th>\n",
       "      <th>y</th>\n",
       "      <th>z</th>\n",
       "      <th>comment</th>\n",
       "      <th>decision</th>\n",
       "      <th>id</th>\n",
       "      <th>ml</th>\n",
       "      <th>type</th>\n",
       "      <th>instance_uid</th>\n",
       "      <th>location</th>\n",
       "      <th>dcm_path</th>\n",
       "      <th>IsLung</th>\n",
       "      <th>IsBody</th>\n",
       "      <th>z_level</th>\n",
       "    </tr>\n",
       "  </thead>\n",
       "  <tbody>\n",
       "    <tr>\n",
       "      <th>0</th>\n",
       "      <td>RLS5A09001KDC6-K00008714</td>\n",
       "      <td>002</td>\n",
       "      <td>6.0</td>\n",
       "      <td>400.0</td>\n",
       "      <td>281.0</td>\n",
       "      <td>1698.3</td>\n",
       "      <td>неверный размер</td>\n",
       "      <td>confirmed_partially</td>\n",
       "      <td>СВЕ</td>\n",
       "      <td>False</td>\n",
       "      <td>м</td>\n",
       "      <td>1.2.276.0.7230010.3.1.3.1417964692.10880.15687...</td>\n",
       "      <td>115.2</td>\n",
       "      <td>E:\\data\\For_Publication_v3\\Dicom\\RLAD31D006-11...</td>\n",
       "      <td>False</td>\n",
       "      <td>True</td>\n",
       "      <td>0.684384</td>\n",
       "    </tr>\n",
       "    <tr>\n",
       "      <th>1</th>\n",
       "      <td>RLS5A09001KDC6-K00008714</td>\n",
       "      <td>002</td>\n",
       "      <td>6.0</td>\n",
       "      <td>400.0</td>\n",
       "      <td>281.0</td>\n",
       "      <td>1698.3</td>\n",
       "      <td>неверный размер</td>\n",
       "      <td>confirmed_partially</td>\n",
       "      <td>СВЕ</td>\n",
       "      <td>False</td>\n",
       "      <td>м</td>\n",
       "      <td>1.2.276.0.7230010.3.1.3.1417964692.10880.15687...</td>\n",
       "      <td>115.2</td>\n",
       "      <td>E:\\data\\For_Publication_v3\\Dicom\\RLAD31D006-11...</td>\n",
       "      <td>True</td>\n",
       "      <td>False</td>\n",
       "      <td>0.684384</td>\n",
       "    </tr>\n",
       "  </tbody>\n",
       "</table>\n",
       "</div>"
      ],
      "text/plain": [
       "                   study_id nodule_id  diameter      x      y       z  \\\n",
       "0  RLS5A09001KDC6-K00008714       002       6.0  400.0  281.0  1698.3   \n",
       "1  RLS5A09001KDC6-K00008714       002       6.0  400.0  281.0  1698.3   \n",
       "\n",
       "           comment             decision   id     ml type  \\\n",
       "0  неверный размер  confirmed_partially  СВЕ  False    м   \n",
       "1  неверный размер  confirmed_partially  СВЕ  False    м   \n",
       "\n",
       "                                        instance_uid  location  \\\n",
       "0  1.2.276.0.7230010.3.1.3.1417964692.10880.15687...     115.2   \n",
       "1  1.2.276.0.7230010.3.1.3.1417964692.10880.15687...     115.2   \n",
       "\n",
       "                                            dcm_path  IsLung  IsBody   z_level  \n",
       "0  E:\\data\\For_Publication_v3\\Dicom\\RLAD31D006-11...   False    True  0.684384  \n",
       "1  E:\\data\\For_Publication_v3\\Dicom\\RLAD31D006-11...    True   False  0.684384  "
      ]
     },
     "execution_count": 28,
     "metadata": {},
     "output_type": "execute_result"
    }
   ],
   "source": [
    "nodules.head(2)"
   ]
  },
  {
   "cell_type": "code",
   "execution_count": 29,
   "metadata": {},
   "outputs": [
    {
     "data": {
      "text/html": [
       "<div>\n",
       "<style scoped>\n",
       "    .dataframe tbody tr th:only-of-type {\n",
       "        vertical-align: middle;\n",
       "    }\n",
       "\n",
       "    .dataframe tbody tr th {\n",
       "        vertical-align: top;\n",
       "    }\n",
       "\n",
       "    .dataframe thead th {\n",
       "        text-align: right;\n",
       "    }\n",
       "</style>\n",
       "<table border=\"1\" class=\"dataframe\">\n",
       "  <thead>\n",
       "    <tr style=\"text-align: right;\">\n",
       "      <th></th>\n",
       "      <th>study_id</th>\n",
       "      <th>instance_uid</th>\n",
       "      <th>z_mm</th>\n",
       "      <th>location</th>\n",
       "      <th>dcm_path</th>\n",
       "      <th>IsLung</th>\n",
       "      <th>IsBody</th>\n",
       "      <th>HasNodules</th>\n",
       "      <th>z_level</th>\n",
       "    </tr>\n",
       "  </thead>\n",
       "  <tbody>\n",
       "    <tr>\n",
       "      <th>0</th>\n",
       "      <td>RLS5A09001KDC6-K00004273</td>\n",
       "      <td>1.2.276.0.7230010.3.1.3.1417964692.10880.15687...</td>\n",
       "      <td>1660.5</td>\n",
       "      <td>300.0</td>\n",
       "      <td>E:\\data\\For_Publication_v3\\Dicom\\RLAD31D006-12...</td>\n",
       "      <td>False</td>\n",
       "      <td>True</td>\n",
       "      <td>False</td>\n",
       "      <td>0.0</td>\n",
       "    </tr>\n",
       "    <tr>\n",
       "      <th>1</th>\n",
       "      <td>RLS5A09001KDC6-K00004273</td>\n",
       "      <td>1.2.276.0.7230010.3.1.3.1417964692.10880.15687...</td>\n",
       "      <td>1660.5</td>\n",
       "      <td>300.0</td>\n",
       "      <td>E:\\data\\For_Publication_v3\\Dicom\\RLAD31D006-12...</td>\n",
       "      <td>True</td>\n",
       "      <td>False</td>\n",
       "      <td>False</td>\n",
       "      <td>0.0</td>\n",
       "    </tr>\n",
       "  </tbody>\n",
       "</table>\n",
       "</div>"
      ],
      "text/plain": [
       "                   study_id  \\\n",
       "0  RLS5A09001KDC6-K00004273   \n",
       "1  RLS5A09001KDC6-K00004273   \n",
       "\n",
       "                                        instance_uid    z_mm  location  \\\n",
       "0  1.2.276.0.7230010.3.1.3.1417964692.10880.15687...  1660.5     300.0   \n",
       "1  1.2.276.0.7230010.3.1.3.1417964692.10880.15687...  1660.5     300.0   \n",
       "\n",
       "                                            dcm_path  IsLung  IsBody  \\\n",
       "0  E:\\data\\For_Publication_v3\\Dicom\\RLAD31D006-12...   False    True   \n",
       "1  E:\\data\\For_Publication_v3\\Dicom\\RLAD31D006-12...    True   False   \n",
       "\n",
       "   HasNodules  z_level  \n",
       "0       False      0.0  \n",
       "1       False      0.0  "
      ]
     },
     "execution_count": 29,
     "metadata": {},
     "output_type": "execute_result"
    }
   ],
   "source": [
    "plans.head(2)"
   ]
  },
  {
   "cell_type": "markdown",
   "metadata": {},
   "source": [
    "### Ограничим выборку\n",
    "\n",
    "Выберем снимки из диапазона по z, в котором найдено большое кол-во узлов"
   ]
  },
  {
   "cell_type": "code",
   "execution_count": 30,
   "metadata": {},
   "outputs": [],
   "source": [
    "Z_LEVEL_MIN = 0.60\n",
    "Z_LEVEL_MAX = 0.80"
   ]
  },
  {
   "cell_type": "code",
   "execution_count": 31,
   "metadata": {},
   "outputs": [
    {
     "data": {
      "text/plain": [
       "370"
      ]
     },
     "execution_count": 31,
     "metadata": {},
     "output_type": "execute_result"
    }
   ],
   "source": [
    "restricted_plans = plans[plans['IsLung'] & (plans['z_level'] >= Z_LEVEL_MIN) & (plans['z_level'] <= Z_LEVEL_MAX) & plans['HasNodules']]\n",
    "len(restricted_plans)"
   ]
  },
  {
   "cell_type": "code",
   "execution_count": 32,
   "metadata": {},
   "outputs": [
    {
     "name": "stdout",
     "output_type": "stream",
     "text": [
      "105\n"
     ]
    },
    {
     "data": {
      "text/plain": [
       "<matplotlib.axes._subplots.AxesSubplot at 0x1a9882eef98>"
      ]
     },
     "execution_count": 32,
     "metadata": {},
     "output_type": "execute_result"
    },
    {
     "data": {
      "image/png": "[encoded data removed]",
      "text/plain": [
       "<Figure size 432x288 with 1 Axes>"
      ]
     },
     "metadata": {
      "needs_background": "light"
     },
     "output_type": "display_data"
    }
   ],
   "source": [
    "restricted_studies = restricted_plans['study_id'].value_counts()\n",
    "print(len(restricted_studies))\n",
    "restricted_studies.hist()"
   ]
  },
  {
   "cell_type": "code",
   "execution_count": 33,
   "metadata": {},
   "outputs": [],
   "source": [
    "target_studies = restricted_studies.index"
   ]
  },
  {
   "cell_type": "code",
   "execution_count": 34,
   "metadata": {},
   "outputs": [
    {
     "data": {
      "text/plain": [
       "1363"
      ]
     },
     "execution_count": 34,
     "metadata": {},
     "output_type": "execute_result"
    }
   ],
   "source": [
    "restricted_nodules = nodules[nodules['IsLung'] & nodules['study_id'].isin(target_studies)]\n",
    "len(restricted_nodules)"
   ]
  },
  {
   "cell_type": "markdown",
   "metadata": {},
   "source": [
    "### Данные для итоговой оценки\n",
    "\n",
    "В приложениях будем искать патологии с помощью моделей, обученных на снимках из предыдущих исследований. Т.к. данных о времени исследования нет, упорядочим по id.\n",
    "\n",
    "Вероятно, распределения исследований меняются со временем, поэтому для финальной валидации используем отложенную выборку - не представительную и без shuffle (если бы были доступны timestamp'ы, отсортировал бы по ним)"
   ]
  },
  {
   "cell_type": "code",
   "execution_count": 35,
   "metadata": {},
   "outputs": [],
   "source": [
    "studies_model, studies_test, _, _ = train_test_split(target_studies.sort_values(), np.zeros(len(target_studies)), test_size=0.1, shuffle=True, random_state=5)"
   ]
  },
  {
   "cell_type": "code",
   "execution_count": 36,
   "metadata": {},
   "outputs": [
    {
     "data": {
      "text/plain": [
       "(11, 47)"
      ]
     },
     "execution_count": 36,
     "metadata": {},
     "output_type": "execute_result"
    }
   ],
   "source": [
    "len(studies_test), len(restricted_plans[restricted_plans['study_id'].isin(studies_test)])"
   ]
  },
  {
   "cell_type": "code",
   "execution_count": 37,
   "metadata": {},
   "outputs": [
    {
     "data": {
      "text/plain": [
       "(94, 323)"
      ]
     },
     "execution_count": 37,
     "metadata": {},
     "output_type": "execute_result"
    }
   ],
   "source": [
    "len(studies_model), len(restricted_plans[restricted_plans['study_id'].isin(studies_model)])"
   ]
  },
  {
   "cell_type": "markdown",
   "metadata": {},
   "source": [
    "### Данные для обучения модели\n",
    "\n",
    "Сохраним в выборках распределение по кол-ву снимков "
   ]
  },
  {
   "cell_type": "code",
   "execution_count": 38,
   "metadata": {},
   "outputs": [],
   "source": [
    "plans_dist = pd.Series(data=np.zeros(len(studies_model), dtype=np.int8), index=studies_model)"
   ]
  },
  {
   "cell_type": "code",
   "execution_count": 39,
   "metadata": {},
   "outputs": [],
   "source": [
    "plans_by_study = restricted_plans[restricted_plans['study_id'].isin(studies_model)]['study_id'].value_counts()\n",
    "plans_dist = plans_by_study.astype('int')"
   ]
  },
  {
   "cell_type": "code",
   "execution_count": 40,
   "metadata": {},
   "outputs": [],
   "source": [
    "plans_dist[plans_dist >= 10] = 10\n",
    "plans_dist[(plans_dist >= 6) & (plans_dist < 10) ] = 6"
   ]
  },
  {
   "cell_type": "code",
   "execution_count": 41,
   "metadata": {},
   "outputs": [
    {
     "data": {
      "text/plain": [
       "1     34\n",
       "3     18\n",
       "2     16\n",
       "10     8\n",
       "5      7\n",
       "4      6\n",
       "6      5\n",
       "Name: study_id, dtype: int64"
      ]
     },
     "execution_count": 41,
     "metadata": {},
     "output_type": "execute_result"
    }
   ],
   "source": [
    "plans_dist.value_counts()"
   ]
  },
  {
   "cell_type": "code",
   "execution_count": 42,
   "metadata": {},
   "outputs": [],
   "source": [
    "studies_model_train, studies_model_valid, _, _ = train_test_split(studies_model, np.zeros(len(studies_model)), test_size=0.2, stratify=plans_dist, shuffle=True,  random_state=5)"
   ]
  },
  {
   "cell_type": "code",
   "execution_count": 43,
   "metadata": {},
   "outputs": [
    {
     "data": {
      "text/plain": [
       "(19, 79)"
      ]
     },
     "execution_count": 43,
     "metadata": {},
     "output_type": "execute_result"
    }
   ],
   "source": [
    "len(studies_model_valid), len(restricted_plans[restricted_plans['study_id'].isin(studies_model_valid)])"
   ]
  },
  {
   "cell_type": "code",
   "execution_count": 44,
   "metadata": {},
   "outputs": [
    {
     "data": {
      "text/plain": [
       "(75, 244)"
      ]
     },
     "execution_count": 44,
     "metadata": {},
     "output_type": "execute_result"
    }
   ],
   "source": [
    "len(studies_model_train), len(restricted_plans[restricted_plans['study_id'].isin(studies_model_train)])"
   ]
  },
  {
   "cell_type": "markdown",
   "metadata": {},
   "source": [
    "### Сохраним выборки исследовании"
   ]
  },
  {
   "cell_type": "code",
   "execution_count": 45,
   "metadata": {},
   "outputs": [],
   "source": [
    "restricted_nodules.to_csv(\"data/restricted_nodules\")\n",
    "restricted_plans.to_csv(\"data/restricted_plans\")"
   ]
  },
  {
   "cell_type": "code",
   "execution_count": 46,
   "metadata": {},
   "outputs": [
    {
     "data": {
      "text/plain": [
       "['data/test']"
      ]
     },
     "execution_count": 46,
     "metadata": {},
     "output_type": "execute_result"
    }
   ],
   "source": [
    "joblib.dump(studies_model_train, \"data/train\")\n",
    "joblib.dump(studies_model_valid, \"data/valid\")\n",
    "joblib.dump(studies_test, \"data/test\")"
   ]
  }
 ],
 "metadata": {
  "kernelspec": {
   "display_name": "Python 3",
   "language": "python",
   "name": "python3"
  },
  "language_info": {
   "codemirror_mode": {
    "name": "ipython",
    "version": 3
   },
   "file_extension": ".py",
   "mimetype": "text/x-python",
   "name": "python",
   "nbconvert_exporter": "python",
   "pygments_lexer": "ipython3",
   "version": "3.7.1"
  }
 },
 "nbformat": 4,
 "nbformat_minor": 4
}
