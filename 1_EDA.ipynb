{
 "cells": [
  {
   "cell_type": "markdown",
   "metadata": {},
   "source": [
    "#"
   ]
  },
  {
   "cell_type": "code",
   "execution_count": 16,
   "metadata": {},
   "outputs": [],
   "source": [
    "import numpy as np\n",
    "import pandas as pd \n",
    "import matplotlib.pyplot as plt"
   ]
  },
  {
   "cell_type": "markdown",
   "metadata": {},
   "source": [
    "### Загрузим данные о снимках и обнаруженных узлах"
   ]
  },
  {
   "cell_type": "code",
   "execution_count": 17,
   "metadata": {},
   "outputs": [],
   "source": [
    "protocols = pd.read_csv('data/protocols_common')\n",
    "nodules_pos = pd.read_csv('data/nodules_positions')\n",
    "plan_instances = pd.read_csv('data/plan_instances')"
   ]
  },
  {
   "cell_type": "code",
   "execution_count": 18,
   "metadata": {},
   "outputs": [
    {
     "data": {
      "text/plain": [
       "(2911, 371425, 5293)"
      ]
     },
     "execution_count": 18,
     "metadata": {},
     "output_type": "execute_result"
    }
   ],
   "source": [
    "len(protocols), len(plan_instances), len(nodules_pos)"
   ]
  },
  {
   "cell_type": "code",
   "execution_count": 19,
   "metadata": {},
   "outputs": [
    {
     "data": {
      "text/html": [
       "<div>\n",
       "<style scoped>\n",
       "    .dataframe tbody tr th:only-of-type {\n",
       "        vertical-align: middle;\n",
       "    }\n",
       "\n",
       "    .dataframe tbody tr th {\n",
       "        vertical-align: top;\n",
       "    }\n",
       "\n",
       "    .dataframe thead th {\n",
       "        text-align: right;\n",
       "    }\n",
       "</style>\n",
       "<table border=\"1\" class=\"dataframe\">\n",
       "  <thead>\n",
       "    <tr style=\"text-align: right;\">\n",
       "      <th></th>\n",
       "      <th>study_id</th>\n",
       "      <th>desc</th>\n",
       "      <th>z_mm</th>\n",
       "      <th>location</th>\n",
       "      <th>instance_uid</th>\n",
       "      <th>dcm_path</th>\n",
       "    </tr>\n",
       "  </thead>\n",
       "  <tbody>\n",
       "    <tr>\n",
       "      <th>0</th>\n",
       "      <td>RLS5A09001KDC6-K00004273</td>\n",
       "      <td>Inspirat. Body 5.0    Inspirat.</td>\n",
       "      <td>1660.5</td>\n",
       "      <td>300.0</td>\n",
       "      <td>1.2.276.0.7230010.3.1.3.1417964692.10880.15687...</td>\n",
       "      <td>E:\\data\\For_Publication_v3\\Dicom\\RLAD31D006-12...</td>\n",
       "    </tr>\n",
       "    <tr>\n",
       "      <th>1</th>\n",
       "      <td>RLS5A09001KDC6-K00004273</td>\n",
       "      <td>Inspirat. Lung 5.0    Inspirat.</td>\n",
       "      <td>1660.5</td>\n",
       "      <td>300.0</td>\n",
       "      <td>1.2.276.0.7230010.3.1.3.1417964692.10880.15687...</td>\n",
       "      <td>E:\\data\\For_Publication_v3\\Dicom\\RLAD31D006-12...</td>\n",
       "    </tr>\n",
       "    <tr>\n",
       "      <th>2</th>\n",
       "      <td>RLS5A09001KDC6-K00004273</td>\n",
       "      <td>Inspirat. Body 1.0    Inspirat.</td>\n",
       "      <td>1660.5</td>\n",
       "      <td>300.0</td>\n",
       "      <td>1.2.276.0.7230010.3.1.3.1417964692.10880.15687...</td>\n",
       "      <td>E:\\data\\For_Publication_v3\\Dicom\\RLAD31D006-12...</td>\n",
       "    </tr>\n",
       "  </tbody>\n",
       "</table>\n",
       "</div>"
      ],
      "text/plain": [
       "                   study_id                             desc    z_mm  \\\n",
       "0  RLS5A09001KDC6-K00004273  Inspirat. Body 5.0    Inspirat.  1660.5   \n",
       "1  RLS5A09001KDC6-K00004273  Inspirat. Lung 5.0    Inspirat.  1660.5   \n",
       "2  RLS5A09001KDC6-K00004273  Inspirat. Body 1.0    Inspirat.  1660.5   \n",
       "\n",
       "   location                                       instance_uid  \\\n",
       "0     300.0  1.2.276.0.7230010.3.1.3.1417964692.10880.15687...   \n",
       "1     300.0  1.2.276.0.7230010.3.1.3.1417964692.10880.15687...   \n",
       "2     300.0  1.2.276.0.7230010.3.1.3.1417964692.10880.15687...   \n",
       "\n",
       "                                            dcm_path  \n",
       "0  E:\\data\\For_Publication_v3\\Dicom\\RLAD31D006-12...  \n",
       "1  E:\\data\\For_Publication_v3\\Dicom\\RLAD31D006-12...  \n",
       "2  E:\\data\\For_Publication_v3\\Dicom\\RLAD31D006-12...  "
      ]
     },
     "execution_count": 19,
     "metadata": {},
     "output_type": "execute_result"
    }
   ],
   "source": [
    "plan_instances.head(3)"
   ]
  },
  {
   "cell_type": "markdown",
   "metadata": {},
   "source": [
    "### Типы снимков\n",
    "\n",
    "Снимки в одпой плоскости имеют разные типы:\n",
    "* **Ling** - легкие\n",
    "* **Body** - окружающие ткани\n",
    "\n",
    "Кажется, отличаются тем, что снимок преобработан с разными свертками, чтобы выделить на изображении конкретный тип ткани"
   ]
  },
  {
   "cell_type": "code",
   "execution_count": 20,
   "metadata": {},
   "outputs": [],
   "source": [
    "plans = plan_instances[['study_id', 'instance_uid', 'z_mm', 'location', 'dcm_path']]\n",
    "plans['IsLung'] = plan_instances['desc'].str.lower().str.contains('lung')\n",
    "plans['IsBody'] = plan_instances['desc'].str.lower().str.contains('body')"
   ]
  },
  {
   "cell_type": "code",
   "execution_count": 21,
   "metadata": {},
   "outputs": [
    {
     "data": {
      "text/plain": [
       "False    248555\n",
       "True     122870\n",
       "Name: IsLung, dtype: int64"
      ]
     },
     "execution_count": 21,
     "metadata": {},
     "output_type": "execute_result"
    }
   ],
   "source": [
    "plans['IsLung'].value_counts()"
   ]
  },
  {
   "cell_type": "code",
   "execution_count": 22,
   "metadata": {},
   "outputs": [
    {
     "name": "stdout",
     "output_type": "stream",
     "text": [
      "4\n"
     ]
    },
    {
     "data": {
      "text/plain": [
       "Sft Tissue 0.5               1262\n",
       "CTA 1.0 CE  CTA Vol. FC08     818\n",
       "Pediatric 1.0   Vol.          721\n",
       "Sft Tissue 5.0                 55\n",
       "Name: desc, dtype: int64"
      ]
     },
     "execution_count": 22,
     "metadata": {},
     "output_type": "execute_result"
    }
   ],
   "source": [
    "unknow_plan_type = ~plans['IsLung'] & ~plans['IsBody']\n",
    "studies_with_unknow_plan_type = plan_instances[unknow_plan_type]['study_id'].unique()\n",
    "print(len(studies_with_unknow_plan_type))\n",
    "plan_instances[unknow_plan_type]['desc'].value_counts()"
   ]
  },
  {
   "cell_type": "markdown",
   "metadata": {},
   "source": [
    "### Распределение кол-во снимков по исследованиям"
   ]
  },
  {
   "cell_type": "code",
   "execution_count": 23,
   "metadata": {},
   "outputs": [
    {
     "data": {
      "text/plain": [
       "<matplotlib.axes._subplots.AxesSubplot at 0x23eb89053c8>"
      ]
     },
     "execution_count": 23,
     "metadata": {},
     "output_type": "execute_result"
    },
    {
     "data": {
      "image/png": "[encoded data removed]",
      "text/plain": [
       "<Figure size 432x288 with 1 Axes>"
      ]
     },
     "metadata": {
      "needs_background": "light"
     },
     "output_type": "display_data"
    }
   ],
   "source": [
    "plans.groupby('study_id')['instance_uid'].count().hist()"
   ]
  },
  {
   "cell_type": "markdown",
   "metadata": {},
   "source": [
    "### Соотвествие между узлами и снимками\n",
    "\n",
    "z-координаты узлов в протоколе представлены в мм., сопоставим им снимки"
   ]
  },
  {
   "cell_type": "code",
   "execution_count": 24,
   "metadata": {},
   "outputs": [
    {
     "data": {
      "text/html": [
       "<div>\n",
       "<style scoped>\n",
       "    .dataframe tbody tr th:only-of-type {\n",
       "        vertical-align: middle;\n",
       "    }\n",
       "\n",
       "    .dataframe tbody tr th {\n",
       "        vertical-align: top;\n",
       "    }\n",
       "\n",
       "    .dataframe thead th {\n",
       "        text-align: right;\n",
       "    }\n",
       "</style>\n",
       "<table border=\"1\" class=\"dataframe\">\n",
       "  <thead>\n",
       "    <tr style=\"text-align: right;\">\n",
       "      <th></th>\n",
       "      <th>study_id</th>\n",
       "      <th>instance_uid</th>\n",
       "      <th>z_mm</th>\n",
       "      <th>location</th>\n",
       "      <th>dcm_path</th>\n",
       "      <th>IsLung</th>\n",
       "      <th>IsBody</th>\n",
       "    </tr>\n",
       "  </thead>\n",
       "  <tbody>\n",
       "    <tr>\n",
       "      <th>0</th>\n",
       "      <td>RLS5A09001KDC6-K00004273</td>\n",
       "      <td>1.2.276.0.7230010.3.1.3.1417964692.10880.15687...</td>\n",
       "      <td>1660.5</td>\n",
       "      <td>300.0</td>\n",
       "      <td>E:\\data\\For_Publication_v3\\Dicom\\RLAD31D006-12...</td>\n",
       "      <td>False</td>\n",
       "      <td>True</td>\n",
       "    </tr>\n",
       "    <tr>\n",
       "      <th>1</th>\n",
       "      <td>RLS5A09001KDC6-K00004273</td>\n",
       "      <td>1.2.276.0.7230010.3.1.3.1417964692.10880.15687...</td>\n",
       "      <td>1660.5</td>\n",
       "      <td>300.0</td>\n",
       "      <td>E:\\data\\For_Publication_v3\\Dicom\\RLAD31D006-12...</td>\n",
       "      <td>True</td>\n",
       "      <td>False</td>\n",
       "    </tr>\n",
       "    <tr>\n",
       "      <th>2</th>\n",
       "      <td>RLS5A09001KDC6-K00004273</td>\n",
       "      <td>1.2.276.0.7230010.3.1.3.1417964692.10880.15687...</td>\n",
       "      <td>1660.5</td>\n",
       "      <td>300.0</td>\n",
       "      <td>E:\\data\\For_Publication_v3\\Dicom\\RLAD31D006-12...</td>\n",
       "      <td>False</td>\n",
       "      <td>True</td>\n",
       "    </tr>\n",
       "  </tbody>\n",
       "</table>\n",
       "</div>"
      ],
      "text/plain": [
       "                   study_id  \\\n",
       "0  RLS5A09001KDC6-K00004273   \n",
       "1  RLS5A09001KDC6-K00004273   \n",
       "2  RLS5A09001KDC6-K00004273   \n",
       "\n",
       "                                        instance_uid    z_mm  location  \\\n",
       "0  1.2.276.0.7230010.3.1.3.1417964692.10880.15687...  1660.5     300.0   \n",
       "1  1.2.276.0.7230010.3.1.3.1417964692.10880.15687...  1660.5     300.0   \n",
       "2  1.2.276.0.7230010.3.1.3.1417964692.10880.15687...  1660.5     300.0   \n",
       "\n",
       "                                            dcm_path  IsLung  IsBody  \n",
       "0  E:\\data\\For_Publication_v3\\Dicom\\RLAD31D006-12...   False    True  \n",
       "1  E:\\data\\For_Publication_v3\\Dicom\\RLAD31D006-12...    True   False  \n",
       "2  E:\\data\\For_Publication_v3\\Dicom\\RLAD31D006-12...   False    True  "
      ]
     },
     "execution_count": 24,
     "metadata": {},
     "output_type": "execute_result"
    }
   ],
   "source": [
    "plans.head(3)"
   ]
  },
  {
   "cell_type": "code",
   "execution_count": 25,
   "metadata": {},
   "outputs": [
    {
     "data": {
      "text/html": [
       "<div>\n",
       "<style scoped>\n",
       "    .dataframe tbody tr th:only-of-type {\n",
       "        vertical-align: middle;\n",
       "    }\n",
       "\n",
       "    .dataframe tbody tr th {\n",
       "        vertical-align: top;\n",
       "    }\n",
       "\n",
       "    .dataframe thead th {\n",
       "        text-align: right;\n",
       "    }\n",
       "</style>\n",
       "<table border=\"1\" class=\"dataframe\">\n",
       "  <thead>\n",
       "    <tr style=\"text-align: right;\">\n",
       "      <th></th>\n",
       "      <th>study_id</th>\n",
       "      <th>nodule_id</th>\n",
       "      <th>diameter</th>\n",
       "      <th>x</th>\n",
       "      <th>y</th>\n",
       "      <th>z</th>\n",
       "      <th>comment</th>\n",
       "      <th>decision</th>\n",
       "      <th>id</th>\n",
       "      <th>ml</th>\n",
       "      <th>type</th>\n",
       "      <th>instance_uid</th>\n",
       "      <th>location</th>\n",
       "      <th>dcm_path</th>\n",
       "      <th>IsLung</th>\n",
       "      <th>IsBody</th>\n",
       "    </tr>\n",
       "  </thead>\n",
       "  <tbody>\n",
       "    <tr>\n",
       "      <th>0</th>\n",
       "      <td>RLS5A09001KDC6-K00008714</td>\n",
       "      <td>002</td>\n",
       "      <td>6.0</td>\n",
       "      <td>400.0</td>\n",
       "      <td>281.0</td>\n",
       "      <td>1698.3</td>\n",
       "      <td>неверный размер</td>\n",
       "      <td>confirmed_partially</td>\n",
       "      <td>СВЕ</td>\n",
       "      <td>False</td>\n",
       "      <td>м</td>\n",
       "      <td>1.2.276.0.7230010.3.1.3.1417964692.10880.15687...</td>\n",
       "      <td>115.2</td>\n",
       "      <td>E:\\data\\For_Publication_v3\\Dicom\\RLAD31D006-11...</td>\n",
       "      <td>False</td>\n",
       "      <td>True</td>\n",
       "    </tr>\n",
       "    <tr>\n",
       "      <th>1</th>\n",
       "      <td>RLS5A09001KDC6-K00008714</td>\n",
       "      <td>002</td>\n",
       "      <td>6.0</td>\n",
       "      <td>400.0</td>\n",
       "      <td>281.0</td>\n",
       "      <td>1698.3</td>\n",
       "      <td>неверный размер</td>\n",
       "      <td>confirmed_partially</td>\n",
       "      <td>СВЕ</td>\n",
       "      <td>False</td>\n",
       "      <td>м</td>\n",
       "      <td>1.2.276.0.7230010.3.1.3.1417964692.10880.15687...</td>\n",
       "      <td>115.2</td>\n",
       "      <td>E:\\data\\For_Publication_v3\\Dicom\\RLAD31D006-11...</td>\n",
       "      <td>True</td>\n",
       "      <td>False</td>\n",
       "    </tr>\n",
       "    <tr>\n",
       "      <th>2</th>\n",
       "      <td>RLS5A09001KDC6-K00008714</td>\n",
       "      <td>002</td>\n",
       "      <td>6.0</td>\n",
       "      <td>417.0</td>\n",
       "      <td>251.0</td>\n",
       "      <td>1632.7</td>\n",
       "      <td>несовпадение типа (п), неверный размер</td>\n",
       "      <td>confirmed_partially</td>\n",
       "      <td>СВЕ</td>\n",
       "      <td>True</td>\n",
       "      <td>п</td>\n",
       "      <td>1.2.276.0.7230010.3.1.3.1417964692.10880.15687...</td>\n",
       "      <td>180.8</td>\n",
       "      <td>E:\\data\\For_Publication_v3\\Dicom\\RLAD31D006-11...</td>\n",
       "      <td>False</td>\n",
       "      <td>True</td>\n",
       "    </tr>\n",
       "  </tbody>\n",
       "</table>\n",
       "</div>"
      ],
      "text/plain": [
       "                   study_id nodule_id  diameter      x      y       z  \\\n",
       "0  RLS5A09001KDC6-K00008714       002       6.0  400.0  281.0  1698.3   \n",
       "1  RLS5A09001KDC6-K00008714       002       6.0  400.0  281.0  1698.3   \n",
       "2  RLS5A09001KDC6-K00008714       002       6.0  417.0  251.0  1632.7   \n",
       "\n",
       "                                  comment             decision   id     ml  \\\n",
       "0                         неверный размер  confirmed_partially  СВЕ  False   \n",
       "1                         неверный размер  confirmed_partially  СВЕ  False   \n",
       "2  несовпадение типа (п), неверный размер  confirmed_partially  СВЕ   True   \n",
       "\n",
       "  type                                       instance_uid  location  \\\n",
       "0    м  1.2.276.0.7230010.3.1.3.1417964692.10880.15687...     115.2   \n",
       "1    м  1.2.276.0.7230010.3.1.3.1417964692.10880.15687...     115.2   \n",
       "2    п  1.2.276.0.7230010.3.1.3.1417964692.10880.15687...     180.8   \n",
       "\n",
       "                                            dcm_path IsLung IsBody  \n",
       "0  E:\\data\\For_Publication_v3\\Dicom\\RLAD31D006-11...  False   True  \n",
       "1  E:\\data\\For_Publication_v3\\Dicom\\RLAD31D006-11...   True  False  \n",
       "2  E:\\data\\For_Publication_v3\\Dicom\\RLAD31D006-11...  False   True  "
      ]
     },
     "execution_count": 25,
     "metadata": {},
     "output_type": "execute_result"
    }
   ],
   "source": [
    "nodules = pd.merge(nodules_pos, plans, how='left', left_on=['study_id', 'z'], right_on=['study_id', 'z_mm'])\n",
    "nodules.drop(['accession_number', 'z_type', 'z_mm'], inplace=True, axis=1)\n",
    "nodules.head(3)"
   ]
  },
  {
   "cell_type": "markdown",
   "metadata": {},
   "source": [
    "Для 20% не удалось по z-координате найти снимков в соотвествующем  исследовании "
   ]
  },
  {
   "cell_type": "code",
   "execution_count": 26,
   "metadata": {},
   "outputs": [
    {
     "name": "stdout",
     "output_type": "stream",
     "text": [
      "1050 217\n"
     ]
    },
    {
     "data": {
      "text/html": [
       "<div>\n",
       "<style scoped>\n",
       "    .dataframe tbody tr th:only-of-type {\n",
       "        vertical-align: middle;\n",
       "    }\n",
       "\n",
       "    .dataframe tbody tr th {\n",
       "        vertical-align: top;\n",
       "    }\n",
       "\n",
       "    .dataframe thead th {\n",
       "        text-align: right;\n",
       "    }\n",
       "</style>\n",
       "<table border=\"1\" class=\"dataframe\">\n",
       "  <thead>\n",
       "    <tr style=\"text-align: right;\">\n",
       "      <th></th>\n",
       "      <th>study_id</th>\n",
       "      <th>nodule_id</th>\n",
       "      <th>diameter</th>\n",
       "      <th>x</th>\n",
       "      <th>y</th>\n",
       "      <th>z</th>\n",
       "      <th>comment</th>\n",
       "      <th>decision</th>\n",
       "      <th>id</th>\n",
       "      <th>ml</th>\n",
       "      <th>type</th>\n",
       "      <th>instance_uid</th>\n",
       "      <th>location</th>\n",
       "      <th>dcm_path</th>\n",
       "      <th>IsLung</th>\n",
       "      <th>IsBody</th>\n",
       "    </tr>\n",
       "  </thead>\n",
       "  <tbody>\n",
       "    <tr>\n",
       "      <th>812</th>\n",
       "      <td>RLSDD01000005658</td>\n",
       "      <td>013</td>\n",
       "      <td>4.0</td>\n",
       "      <td>88.0</td>\n",
       "      <td>284.0</td>\n",
       "      <td>148.0</td>\n",
       "      <td>неверный размер</td>\n",
       "      <td>confirmed_partially</td>\n",
       "      <td>Виктор</td>\n",
       "      <td>False</td>\n",
       "      <td>с</td>\n",
       "      <td>NaN</td>\n",
       "      <td>NaN</td>\n",
       "      <td>NaN</td>\n",
       "      <td>NaN</td>\n",
       "      <td>NaN</td>\n",
       "    </tr>\n",
       "    <tr>\n",
       "      <th>815</th>\n",
       "      <td>RLSDD01000005658</td>\n",
       "      <td>006</td>\n",
       "      <td>8.0</td>\n",
       "      <td>423.0</td>\n",
       "      <td>301.0</td>\n",
       "      <td>1572.1</td>\n",
       "      <td>NaN</td>\n",
       "      <td>confirmed</td>\n",
       "      <td>Виктор</td>\n",
       "      <td>True</td>\n",
       "      <td>м</td>\n",
       "      <td>NaN</td>\n",
       "      <td>NaN</td>\n",
       "      <td>NaN</td>\n",
       "      <td>NaN</td>\n",
       "      <td>NaN</td>\n",
       "    </tr>\n",
       "    <tr>\n",
       "      <th>816</th>\n",
       "      <td>RLSDD01000005658</td>\n",
       "      <td>013</td>\n",
       "      <td>3.0</td>\n",
       "      <td>423.0</td>\n",
       "      <td>301.0</td>\n",
       "      <td>216.0</td>\n",
       "      <td>несовпадение типа (м), неверный размер</td>\n",
       "      <td>confirmed_partially</td>\n",
       "      <td>Виктор</td>\n",
       "      <td>True</td>\n",
       "      <td>м</td>\n",
       "      <td>NaN</td>\n",
       "      <td>NaN</td>\n",
       "      <td>NaN</td>\n",
       "      <td>NaN</td>\n",
       "      <td>NaN</td>\n",
       "    </tr>\n",
       "    <tr>\n",
       "      <th>821</th>\n",
       "      <td>RLSDD01000005658</td>\n",
       "      <td>013</td>\n",
       "      <td>3.0</td>\n",
       "      <td>95.0</td>\n",
       "      <td>329.0</td>\n",
       "      <td>252.0</td>\n",
       "      <td>NaN</td>\n",
       "      <td>confirmed</td>\n",
       "      <td>Виктор</td>\n",
       "      <td>False</td>\n",
       "      <td>с</td>\n",
       "      <td>NaN</td>\n",
       "      <td>NaN</td>\n",
       "      <td>NaN</td>\n",
       "      <td>NaN</td>\n",
       "      <td>NaN</td>\n",
       "    </tr>\n",
       "    <tr>\n",
       "      <th>828</th>\n",
       "      <td>RLSDD01000005658</td>\n",
       "      <td>006</td>\n",
       "      <td>7.0</td>\n",
       "      <td>355.0</td>\n",
       "      <td>389.0</td>\n",
       "      <td>201.0</td>\n",
       "      <td>несовпадение типа (с)</td>\n",
       "      <td>confirmed_partially</td>\n",
       "      <td>Виктор</td>\n",
       "      <td>True</td>\n",
       "      <td>с</td>\n",
       "      <td>NaN</td>\n",
       "      <td>NaN</td>\n",
       "      <td>NaN</td>\n",
       "      <td>NaN</td>\n",
       "      <td>NaN</td>\n",
       "    </tr>\n",
       "  </tbody>\n",
       "</table>\n",
       "</div>"
      ],
      "text/plain": [
       "             study_id nodule_id  diameter      x      y       z  \\\n",
       "812  RLSDD01000005658       013       4.0   88.0  284.0   148.0   \n",
       "815  RLSDD01000005658       006       8.0  423.0  301.0  1572.1   \n",
       "816  RLSDD01000005658       013       3.0  423.0  301.0   216.0   \n",
       "821  RLSDD01000005658       013       3.0   95.0  329.0   252.0   \n",
       "828  RLSDD01000005658       006       7.0  355.0  389.0   201.0   \n",
       "\n",
       "                                    comment             decision      id  \\\n",
       "812                         неверный размер  confirmed_partially  Виктор   \n",
       "815                                     NaN            confirmed  Виктор   \n",
       "816  несовпадение типа (м), неверный размер  confirmed_partially  Виктор   \n",
       "821                                     NaN            confirmed  Виктор   \n",
       "828                   несовпадение типа (с)  confirmed_partially  Виктор   \n",
       "\n",
       "        ml type instance_uid  location dcm_path IsLung IsBody  \n",
       "812  False    с          NaN       NaN      NaN    NaN    NaN  \n",
       "815   True    м          NaN       NaN      NaN    NaN    NaN  \n",
       "816   True    м          NaN       NaN      NaN    NaN    NaN  \n",
       "821  False    с          NaN       NaN      NaN    NaN    NaN  \n",
       "828   True    с          NaN       NaN      NaN    NaN    NaN  "
      ]
     },
     "execution_count": 26,
     "metadata": {},
     "output_type": "execute_result"
    }
   ],
   "source": [
    "without_plan_instance = nodules['instance_uid'].isna()\n",
    "studies_with_nodules_without_plan = nodules[without_plan_instance]['study_id'].unique()\n",
    "print(len(nodules[without_plan_instance]), len(studies_with_nodules_without_plan))\n",
    "nodules[without_plan_instance][:5]"
   ]
  },
  {
   "cell_type": "markdown",
   "metadata": {},
   "source": [
    "### Отметим снимки, на которых удалось обнаружить узлы "
   ]
  },
  {
   "cell_type": "code",
   "execution_count": 27,
   "metadata": {},
   "outputs": [],
   "source": [
    "plans['HasNodules'] = plans['dcm_path'].isin(nodules['dcm_path']) "
   ]
  },
  {
   "cell_type": "code",
   "execution_count": 28,
   "metadata": {},
   "outputs": [
    {
     "data": {
      "text/html": [
       "<div>\n",
       "<style scoped>\n",
       "    .dataframe tbody tr th:only-of-type {\n",
       "        vertical-align: middle;\n",
       "    }\n",
       "\n",
       "    .dataframe tbody tr th {\n",
       "        vertical-align: top;\n",
       "    }\n",
       "\n",
       "    .dataframe thead th {\n",
       "        text-align: right;\n",
       "    }\n",
       "</style>\n",
       "<table border=\"1\" class=\"dataframe\">\n",
       "  <thead>\n",
       "    <tr style=\"text-align: right;\">\n",
       "      <th></th>\n",
       "      <th>study_id</th>\n",
       "      <th>instance_uid</th>\n",
       "      <th>z_mm</th>\n",
       "      <th>location</th>\n",
       "      <th>dcm_path</th>\n",
       "      <th>IsLung</th>\n",
       "      <th>IsBody</th>\n",
       "      <th>HasNodules</th>\n",
       "    </tr>\n",
       "  </thead>\n",
       "  <tbody>\n",
       "    <tr>\n",
       "      <th>0</th>\n",
       "      <td>RLS5A09001KDC6-K00004273</td>\n",
       "      <td>1.2.276.0.7230010.3.1.3.1417964692.10880.15687...</td>\n",
       "      <td>1660.5</td>\n",
       "      <td>300.0</td>\n",
       "      <td>E:\\data\\For_Publication_v3\\Dicom\\RLAD31D006-12...</td>\n",
       "      <td>False</td>\n",
       "      <td>True</td>\n",
       "      <td>False</td>\n",
       "    </tr>\n",
       "    <tr>\n",
       "      <th>1</th>\n",
       "      <td>RLS5A09001KDC6-K00004273</td>\n",
       "      <td>1.2.276.0.7230010.3.1.3.1417964692.10880.15687...</td>\n",
       "      <td>1660.5</td>\n",
       "      <td>300.0</td>\n",
       "      <td>E:\\data\\For_Publication_v3\\Dicom\\RLAD31D006-12...</td>\n",
       "      <td>True</td>\n",
       "      <td>False</td>\n",
       "      <td>False</td>\n",
       "    </tr>\n",
       "    <tr>\n",
       "      <th>2</th>\n",
       "      <td>RLS5A09001KDC6-K00004273</td>\n",
       "      <td>1.2.276.0.7230010.3.1.3.1417964692.10880.15687...</td>\n",
       "      <td>1660.5</td>\n",
       "      <td>300.0</td>\n",
       "      <td>E:\\data\\For_Publication_v3\\Dicom\\RLAD31D006-12...</td>\n",
       "      <td>False</td>\n",
       "      <td>True</td>\n",
       "      <td>False</td>\n",
       "    </tr>\n",
       "    <tr>\n",
       "      <th>3</th>\n",
       "      <td>RLS5A09001KDC6-K00004273</td>\n",
       "      <td>1.2.276.0.7230010.3.1.3.1417964692.10880.15687...</td>\n",
       "      <td>1660.5</td>\n",
       "      <td>300.0</td>\n",
       "      <td>E:\\data\\For_Publication_v3\\Dicom\\RLAD31D006-12...</td>\n",
       "      <td>True</td>\n",
       "      <td>False</td>\n",
       "      <td>False</td>\n",
       "    </tr>\n",
       "    <tr>\n",
       "      <th>4</th>\n",
       "      <td>RLS5A09001KDC6-K00004273</td>\n",
       "      <td>1.2.276.0.7230010.3.1.3.1417964692.10880.15687...</td>\n",
       "      <td>1661.3</td>\n",
       "      <td>299.2</td>\n",
       "      <td>E:\\data\\For_Publication_v3\\Dicom\\RLAD31D006-12...</td>\n",
       "      <td>False</td>\n",
       "      <td>True</td>\n",
       "      <td>False</td>\n",
       "    </tr>\n",
       "  </tbody>\n",
       "</table>\n",
       "</div>"
      ],
      "text/plain": [
       "                   study_id  \\\n",
       "0  RLS5A09001KDC6-K00004273   \n",
       "1  RLS5A09001KDC6-K00004273   \n",
       "2  RLS5A09001KDC6-K00004273   \n",
       "3  RLS5A09001KDC6-K00004273   \n",
       "4  RLS5A09001KDC6-K00004273   \n",
       "\n",
       "                                        instance_uid    z_mm  location  \\\n",
       "0  1.2.276.0.7230010.3.1.3.1417964692.10880.15687...  1660.5     300.0   \n",
       "1  1.2.276.0.7230010.3.1.3.1417964692.10880.15687...  1660.5     300.0   \n",
       "2  1.2.276.0.7230010.3.1.3.1417964692.10880.15687...  1660.5     300.0   \n",
       "3  1.2.276.0.7230010.3.1.3.1417964692.10880.15687...  1660.5     300.0   \n",
       "4  1.2.276.0.7230010.3.1.3.1417964692.10880.15687...  1661.3     299.2   \n",
       "\n",
       "                                            dcm_path  IsLung  IsBody  \\\n",
       "0  E:\\data\\For_Publication_v3\\Dicom\\RLAD31D006-12...   False    True   \n",
       "1  E:\\data\\For_Publication_v3\\Dicom\\RLAD31D006-12...    True   False   \n",
       "2  E:\\data\\For_Publication_v3\\Dicom\\RLAD31D006-12...   False    True   \n",
       "3  E:\\data\\For_Publication_v3\\Dicom\\RLAD31D006-12...    True   False   \n",
       "4  E:\\data\\For_Publication_v3\\Dicom\\RLAD31D006-12...   False    True   \n",
       "\n",
       "   HasNodules  \n",
       "0       False  \n",
       "1       False  \n",
       "2       False  \n",
       "3       False  \n",
       "4       False  "
      ]
     },
     "execution_count": 28,
     "metadata": {},
     "output_type": "execute_result"
    }
   ],
   "source": [
    "plans.head()"
   ]
  },
  {
   "cell_type": "markdown",
   "metadata": {},
   "source": [
    "### Распределение снимков по z-координате\n",
    "\n",
    "Преположим, что КТ-исследование проводили в одной области и одном направлении\n",
    "\n",
    "Приведем координаты по оси z к одной системе "
   ]
  },
  {
   "cell_type": "code",
   "execution_count": 29,
   "metadata": {},
   "outputs": [
    {
     "data": {
      "text/plain": [
       "<matplotlib.axes._subplots.AxesSubplot at 0x23ec4ba3908>"
      ]
     },
     "execution_count": 29,
     "metadata": {},
     "output_type": "execute_result"
    },
    {
     "data": {
      "image/png": "[encoded data removed]",
      "text/plain": [
       "<Figure size 432x288 with 1 Axes>"
      ]
     },
     "metadata": {
      "needs_background": "light"
     },
     "output_type": "display_data"
    }
   ],
   "source": [
    "plans[plans['IsLung']]['location'].hist()"
   ]
  },
  {
   "cell_type": "code",
   "execution_count": 30,
   "metadata": {},
   "outputs": [
    {
     "data": {
      "text/plain": [
       "<matplotlib.axes._subplots.AxesSubplot at 0x23eb6488dd8>"
      ]
     },
     "execution_count": 30,
     "metadata": {},
     "output_type": "execute_result"
    },
    {
     "data": {
      "image/png": "[encoded data removed]",
      "text/plain": [
       "<Figure size 432x288 with 1 Axes>"
      ]
     },
     "metadata": {
      "needs_background": "light"
     },
     "output_type": "display_data"
    }
   ],
   "source": [
    "(plans[plans['IsLung']]['z_mm'] / 100).hist(bins=20)"
   ]
  },
  {
   "cell_type": "code",
   "execution_count": 31,
   "metadata": {},
   "outputs": [],
   "source": [
    "studies_z_indexes = pd.DataFrame({'z_min': plans.groupby('study_id')['z_mm'].min(), \n",
    "                                  'z_max': plans.groupby('study_id')['z_mm'].max(),\n",
    "                                  'z_median': plans.groupby('study_id')['z_mm'].median()})"
   ]
  },
  {
   "cell_type": "code",
   "execution_count": 32,
   "metadata": {},
   "outputs": [
    {
     "data": {
      "text/plain": [
       "<matplotlib.axes._subplots.AxesSubplot at 0x23ec2e82fd0>"
      ]
     },
     "execution_count": 32,
     "metadata": {},
     "output_type": "execute_result"
    },
    {
     "data": {
      "image/png": "[encoded data removed]",
      "text/plain": [
       "<Figure size 432x288 with 1 Axes>"
      ]
     },
     "metadata": {
      "needs_background": "light"
     },
     "output_type": "display_data"
    }
   ],
   "source": [
    "studies_z_indexes['z_median'].hist()"
   ]
  },
  {
   "cell_type": "code",
   "execution_count": 33,
   "metadata": {},
   "outputs": [],
   "source": [
    "plans_with_z = pd.merge(plans, studies_z_indexes, how='left', left_on='study_id', right_index=True)\n",
    "nodules_with_z = pd.merge(nodules, studies_z_indexes, how='left', left_on='study_id', right_index=True)"
   ]
  },
  {
   "cell_type": "code",
   "execution_count": 34,
   "metadata": {},
   "outputs": [],
   "source": [
    "plans['z_level'] = (plans['z_mm'] - plans_with_z['z_min']) / (plans_with_z['z_max'] - plans_with_z['z_min'])\n",
    "nodules['z_level'] = (nodules['z'] - nodules_with_z['z_min']) / (nodules_with_z['z_max'] - nodules_with_z['z_min'])"
   ]
  },
  {
   "cell_type": "code",
   "execution_count": 35,
   "metadata": {},
   "outputs": [
    {
     "data": {
      "text/plain": [
       "<matplotlib.axes._subplots.AxesSubplot at 0x23ec2d74588>"
      ]
     },
     "execution_count": 35,
     "metadata": {},
     "output_type": "execute_result"
    },
    {
     "data": {
      "image/png": "[encoded data removed]",
      "text/plain": [
       "<Figure size 432x288 with 1 Axes>"
      ]
     },
     "metadata": {
      "needs_background": "light"
     },
     "output_type": "display_data"
    }
   ],
   "source": [
    "plans['z_level'].hist()"
   ]
  },
  {
   "cell_type": "markdown",
   "metadata": {},
   "source": [
    "### Распределение узлов по z-уровням\n",
    "\n",
    "Посмотрим на каких уровнях по оси z найдено больше всего узлов"
   ]
  },
  {
   "cell_type": "code",
   "execution_count": 36,
   "metadata": {},
   "outputs": [
    {
     "name": "stdout",
     "output_type": "stream",
     "text": [
      "1213\n"
     ]
    },
    {
     "data": {
      "text/plain": [
       "<matplotlib.axes._subplots.AxesSubplot at 0x23eb47820b8>"
      ]
     },
     "execution_count": 36,
     "metadata": {},
     "output_type": "execute_result"
    },
    {
     "data": {
      "image/png": "[encoded data removed]",
      "text/plain": [
       "<Figure size 432x288 with 1 Axes>"
      ]
     },
     "metadata": {
      "needs_background": "light"
     },
     "output_type": "display_data"
    }
   ],
   "source": [
    "lung_plan_with_nodules = plans[plans['HasNodules'] & plans['IsLung']]['z_level']\n",
    "print(len(lung_plan_with_nodules))\n",
    "lung_plan_with_nodules.hist(bins=50)"
   ]
  },
  {
   "cell_type": "code",
   "execution_count": 37,
   "metadata": {},
   "outputs": [
    {
     "data": {
      "text/plain": [
       "<matplotlib.axes._subplots.AxesSubplot at 0x23eb48617b8>"
      ]
     },
     "execution_count": 37,
     "metadata": {},
     "output_type": "execute_result"
    },
    {
     "data": {
      "image/png": "[encoded data removed]",
      "text/plain": [
       "<Figure size 432x288 with 1 Axes>"
      ]
     },
     "metadata": {
      "needs_background": "light"
     },
     "output_type": "display_data"
    }
   ],
   "source": [
    "nodules['z_level'].hist(bins=50)"
   ]
  },
  {
   "cell_type": "markdown",
   "metadata": {},
   "source": [
    "### Отфильтруем данные\n",
    "\n",
    "Уберем исследования, содержащие снимки с непонятными типами"
   ]
  },
  {
   "cell_type": "code",
   "execution_count": 38,
   "metadata": {},
   "outputs": [],
   "source": [
    "studies_to_exclude = studies_with_unknow_plan_type"
   ]
  },
  {
   "cell_type": "code",
   "execution_count": 39,
   "metadata": {},
   "outputs": [
    {
     "data": {
      "text/plain": [
       "537"
      ]
     },
     "execution_count": 39,
     "metadata": {},
     "output_type": "execute_result"
    }
   ],
   "source": [
    "studies = pd.DataFrame(data=protocols[~protocols['study_id'].isin(studies_to_exclude)]['study_id'].unique())\n",
    "len(studies)"
   ]
  },
  {
   "cell_type": "code",
   "execution_count": 40,
   "metadata": {},
   "outputs": [
    {
     "data": {
      "text/plain": [
       "364714"
      ]
     },
     "execution_count": 40,
     "metadata": {},
     "output_type": "execute_result"
    }
   ],
   "source": [
    "plans = plans[~plans['study_id'].isin(studies_to_exclude)]\n",
    "len(plans)"
   ]
  },
  {
   "cell_type": "code",
   "execution_count": 41,
   "metadata": {},
   "outputs": [
    {
     "data": {
      "text/plain": [
       "4054"
      ]
     },
     "execution_count": 41,
     "metadata": {},
     "output_type": "execute_result"
    }
   ],
   "source": [
    "nodules = nodules[~without_plan_instance & ~nodules['study_id'].isin(studies_to_exclude)]\n",
    "len(nodules[['study_id', 'nodule_id', 'z']].drop_duplicates())"
   ]
  },
  {
   "cell_type": "code",
   "execution_count": 42,
   "metadata": {},
   "outputs": [
    {
     "data": {
      "text/plain": [
       "5506"
      ]
     },
     "execution_count": 42,
     "metadata": {},
     "output_type": "execute_result"
    }
   ],
   "source": [
    "len(nodules)"
   ]
  },
  {
   "cell_type": "markdown",
   "metadata": {},
   "source": [
    "### Сохраним данные"
   ]
  },
  {
   "cell_type": "code",
   "execution_count": 43,
   "metadata": {},
   "outputs": [],
   "source": [
    "studies.to_csv('data/studies', index=False)\n",
    "plans.to_csv('data/plans', index=False)\n",
    "nodules.to_csv('data/nodules', index=False)"
   ]
  }
 ],
 "metadata": {
  "kernelspec": {
   "display_name": "Python 3",
   "language": "python",
   "name": "python3"
  },
  "language_info": {
   "codemirror_mode": {
    "name": "ipython",
    "version": 3
   },
   "file_extension": ".py",
   "mimetype": "text/x-python",
   "name": "python",
   "nbconvert_exporter": "python",
   "pygments_lexer": "ipython3",
   "version": "3.7.1"
  }
 },
 "nbformat": 4,
 "nbformat_minor": 4
}
